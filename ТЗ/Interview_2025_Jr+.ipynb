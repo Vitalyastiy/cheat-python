{
  "cells": [
    {
      "cell_type": "markdown",
      "id": "69116f18",
      "metadata": {
        "id": "69116f18"
      },
      "source": [
        "# Тест"
      ]
    },
    {
      "cell_type": "code",
      "execution_count": null,
      "id": "EAsgNIEoMU6Z",
      "metadata": {
        "id": "EAsgNIEoMU6Z"
      },
      "outputs": [],
      "source": [
        "table\n",
        "\n",
        "id1   id2\n",
        "null  3\n",
        "4     1\n",
        "7     null\n",
        "null  null\n",
        "4     5"
      ]
    },
    {
      "cell_type": "code",
      "execution_count": null,
      "id": "Z4Sp2dIzMbGJ",
      "metadata": {
        "colab": {
          "base_uri": "https://localhost:8080/",
          "height": 108
        },
        "id": "Z4Sp2dIzMbGJ",
        "outputId": "bb0c7f8a-e6d6-4e56-e39e-e7cf09e3b285"
      },
      "outputs": [],
      "source": [
        "Найти:\n",
        "\n",
        "SELECT min(id1) FROM table = \n",
        "SELECT max(id1) FROM table = \n",
        "SELECT sum(id1) FROM table = \n",
        "SELECT sum(id1+id2) FROM table = \n",
        "SELECT avg(id1) FROM table = \n",
        "SELECT sum(5) FROM table = \n",
        "SELECT count(*) FROM table = \n",
        "SELECT count(1) FROM table =\n",
        "SELECT count('id1') FROM table = \n",
        "SELECT count(id1) FROM table = \n",
        "SELECT count(distinct id1) FROM table = \n",
        "SELECT sum(COALESCE(id1, 0)) FROM table = \n",
        "\n"
      ]
    },
    {
      "cell_type": "markdown",
      "id": "adf65025",
      "metadata": {
        "id": "adf65025"
      },
      "source": [
        "### Блок 1\n",
        "\n",
        "**Таблица employees, содержит информацию о сотрудниках:**"
      ]
    },
    {
      "cell_type": "code",
      "execution_count": null,
      "id": "6730d1c2",
      "metadata": {
        "id": "6730d1c2"
      },
      "outputs": [],
      "source": [
        "id\tname\t    city\tdepartment\tsalary\n",
        "1\t  Дарья\t    Рязань\thr\t        70\n",
        "2\t  Борис\t    Рязань\thr\t        78\n",
        "21\tЕлена\t    Рязань\tit\t        84\n",
        "22\tКсения\t  Москва\tit\t        90\n",
        "23\tЛеонид\t  Рязань\tit\t        104\n",
        "24\tМарина\t  Москва\tit\t        104\n",
        "25\tИван\t    Москва\tit\t        120\n",
        "41\tВероника\tМосква\tsales\t      96\n",
        "52\tГригорий\tРязань\tsales\t      96\n",
        "53\tАнна\t    Москва\tsales\t      100"
      ]
    },
    {
      "cell_type": "markdown",
      "id": "a3201a84",
      "metadata": {
        "id": "a3201a84"
      },
      "source": [
        "1. Необходимо вывести общие затраты компании на зарплату сотрудникам **нарастающим итогом** для каждого отдела. Проанализировать полученный результат. \n",
        "Должен появиться отдельный столбец, который покажет нарастающий итог в разрезе департаментов, пример в HR отделе 1 строка будет 70, второая - 148\n"
      ]
    },
    {
      "cell_type": "markdown",
      "id": "da1bd2e1",
      "metadata": {
        "id": "da1bd2e1"
      },
      "source": [
        "2. Необходимо написать запрос, который выведет отдельным столбцом к текущей таблице среднюю зарплату по каждому городу"
      ]
    },
    {
      "cell_type": "markdown",
      "id": "ec55496f",
      "metadata": {},
      "source": [
        "3. Необходимо написать запрос для расчета разницы в зарплате между текущим сотрудником и следующим сотрудником в том же отделе (сортировка таблицы уже произведена)."
      ]
    },
    {
      "cell_type": "markdown",
      "id": "96c99dec",
      "metadata": {
        "id": "96c99dec"
      },
      "source": [
        "### Блок 2"
      ]
    },
    {
      "cell_type": "code",
      "execution_count": null,
      "id": "9ef440a2",
      "metadata": {},
      "outputs": [],
      "source": [
        "#синтетический df\n",
        "#запустить!\n",
        "\n",
        "import pandas as pd\n",
        "import numpy as np\n",
        "import matplotlib.pyplot as plt\n",
        "plt.style.use('dark_background')\n",
        "import seaborn as sns\n",
        "\n",
        "n = 500  # количество записей\n",
        "dates = pd.date_range(start='2023-01-01', periods=n, freq='D')\n",
        "user_ids = np.random.randint(1, 100, n)\n",
        "action_types = np.random.choice(['click', 'purchase', 'login'], n)\n",
        "client_platforms = np.random.choice(['iOS', 'Android', 'Web'], n)\n",
        "\n",
        "# Создание DataFrame\n",
        "data = {\n",
        "    'time': dates,\n",
        "    'user_id': user_ids,\n",
        "    'action_type': action_types,\n",
        "    'client_platform': client_platforms\n",
        "}\n",
        "df = pd.DataFrame(data)\n",
        "\n",
        "# Вывод первых 5 строк данных\n",
        "df.head()"
      ]
    },
    {
      "cell_type": "markdown",
      "id": "acce8625",
      "metadata": {},
      "source": [
        "1. Найдите среднее количество действий на одного пользователя."
      ]
    },
    {
      "cell_type": "code",
      "execution_count": null,
      "id": "ae7d2647",
      "metadata": {},
      "outputs": [],
      "source": []
    },
    {
      "cell_type": "markdown",
      "id": "8ae958a4",
      "metadata": {},
      "source": [
        "2. Подсчитайте, сколько пользователей использовали более одной платформы."
      ]
    },
    {
      "cell_type": "code",
      "execution_count": null,
      "id": "a07d9e95",
      "metadata": {},
      "outputs": [],
      "source": []
    },
    {
      "cell_type": "markdown",
      "id": "d7ef1e4c",
      "metadata": {},
      "source": [
        "3. Вывести количество уникальных пользователей, которые использовали платформу IOS в 2023 году"
      ]
    },
    {
      "cell_type": "code",
      "execution_count": null,
      "id": "286b1b60",
      "metadata": {},
      "outputs": [],
      "source": []
    },
    {
      "cell_type": "markdown",
      "id": "f6044522",
      "metadata": {},
      "source": [
        "4. Необходио визуализировать временной ряд, который отражает кол-во уникальных пользоватлей по каждому событию за каждый месяц, вне зависимости от платформы "
      ]
    },
    {
      "cell_type": "code",
      "execution_count": null,
      "id": "bef52759",
      "metadata": {},
      "outputs": [],
      "source": [
        "\n"
      ]
    }
  ],
  "metadata": {
    "colab": {
      "provenance": []
    },
    "kernelspec": {
      "display_name": "base",
      "language": "python",
      "name": "python3"
    },
    "language_info": {
      "codemirror_mode": {
        "name": "ipython",
        "version": 3
      },
      "file_extension": ".py",
      "mimetype": "text/x-python",
      "name": "python",
      "nbconvert_exporter": "python",
      "pygments_lexer": "ipython3",
      "version": "3.12.7"
    }
  },
  "nbformat": 4,
  "nbformat_minor": 5
}
