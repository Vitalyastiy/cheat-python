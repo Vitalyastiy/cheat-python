{
  "cells": [
    {
      "cell_type": "markdown",
      "id": "69116f18",
      "metadata": {
        "id": "69116f18"
      },
      "source": [
        "# Тест"
      ]
    },
    {
      "cell_type": "code",
      "execution_count": null,
      "id": "f9f553a6",
      "metadata": {},
      "outputs": [],
      "source": [
        "table_employees (Таблица сотрудников)\n",
        "\n",
        "salary    bonus\n",
        "2000      null\n",
        "null      500\n",
        "4500      1000\n",
        "null      null\n",
        "2000      300\n",
        "3000      700\n",
        "\n"
      ]
    },
    {
      "cell_type": "markdown",
      "id": "2b2dc439",
      "metadata": {},
      "source": [
        "Дана таблица с информацией о зарплатах сотрудников. В таблице хранится оклад (salary) и премия (bonus).\n",
        "Необходимо определить результат следующих запросов:"
      ]
    },
    {
      "cell_type": "code",
      "execution_count": null,
      "id": "8656762d",
      "metadata": {},
      "outputs": [],
      "source": [
        "\n",
        "SELECT min(salary) FROM table_employees = 2000\n",
        "\n",
        "SELECT max(salary) FROM table_employees = \n",
        "\n",
        "SELECT sum(salary) FROM table_employees = \n",
        " \n",
        "SELECT sum(1000) FROM table_employees = \n",
        "\n",
        "SELECT count(*) FROM table_employees = \n",
        "\n",
        "SELECT count(1) FROM table_employees = \n",
        "\n",
        "SELECT count('salary') FROM table_employees = \n",
        "\n",
        "SELECT count(salary) FROM table_employees = \n",
        "\n",
        "SELECT count(distinct salary) FROM table_employees = \n",
        "\n",
        "SELECT sum(COALESCE(salary, 0)) FROM table_employees = \n",
        "\n",
        "SELECT sum(salary + COALESCE(bonus, 0)) FROM table_employees = \n"
      ]
    },
    {
      "cell_type": "markdown",
      "id": "be11c603",
      "metadata": {},
      "source": [
        "Задание 1.\n",
        "\n",
        "Есть 2 таблицы A и B, в таблице A - 3 строки, а в таблице B - 5 строк.\n",
        "Таблицей слева всегда будет A, таблицей справа - B.\n",
        "В каждой из них только одна колонка - id. Значения в этой колонке могут быть любые (одинаковые, разные),  но не null.\n",
        "\n",
        "Напишите минимальное и максимальное количество строк, которое можем получить в результате известных нам соединений."
      ]
    },
    {
      "cell_type": "code",
      "execution_count": null,
      "id": "9129ff6e",
      "metadata": {},
      "outputs": [],
      "source": []
    },
    {
      "cell_type": "markdown",
      "id": "796dfdaa",
      "metadata": {},
      "source": [
        "Задание 2.\n",
        "\n",
        " Напишите запрос, который выведет сотрудников, у которых зарплата больше, чем у их менеджеров в таблице employee_salary\n"
      ]
    },
    {
      "cell_type": "code",
      "execution_count": null,
      "id": "ddfbfcd7",
      "metadata": {},
      "outputs": [],
      "source": [
        " id_employee\tsalary\tid_manager\n",
        "10\t        155000\t    11\n",
        "11\t        100000\t    13\n",
        "12\t        95000\t    13\n",
        "13\t        110000\t    14\n",
        "14\t        150000\t    null"
      ]
    },
    {
      "cell_type": "code",
      "execution_count": null,
      "id": "0b53c73b",
      "metadata": {},
      "outputs": [],
      "source": []
    },
    {
      "cell_type": "markdown",
      "id": "05ed6f9b",
      "metadata": {},
      "source": [
        "Задание 3 Найдите разницу между зарплатой сотрудника и средней зарплатой его отдела.\n",
        "\n"
      ]
    },
    {
      "cell_type": "code",
      "execution_count": null,
      "id": "bcd00ff3",
      "metadata": {},
      "outputs": [],
      "source": [
        "employee_salaries (Таблица зарплат)\n",
        "employee_name    department    salary\n",
        "Иван            IT           70000\n",
        "Мария           IT           85000\n",
        "Петр            IT           65000\n",
        "Анна            Sales        60000\n",
        "Сергей          Sales        75000\n",
        "Ольга           Sales        62000"
      ]
    },
    {
      "cell_type": "code",
      "execution_count": null,
      "id": "43c0c7ba",
      "metadata": {},
      "outputs": [],
      "source": []
    },
    {
      "cell_type": "markdown",
      "id": "96c99dec",
      "metadata": {
        "id": "96c99dec"
      },
      "source": [
        "### Блок 2"
      ]
    },
    {
      "cell_type": "code",
      "execution_count": 1,
      "id": "9ef440a2",
      "metadata": {},
      "outputs": [
        {
          "data": {
            "text/html": [
              "<div>\n",
              "<style scoped>\n",
              "    .dataframe tbody tr th:only-of-type {\n",
              "        vertical-align: middle;\n",
              "    }\n",
              "\n",
              "    .dataframe tbody tr th {\n",
              "        vertical-align: top;\n",
              "    }\n",
              "\n",
              "    .dataframe thead th {\n",
              "        text-align: right;\n",
              "    }\n",
              "</style>\n",
              "<table border=\"1\" class=\"dataframe\">\n",
              "  <thead>\n",
              "    <tr style=\"text-align: right;\">\n",
              "      <th></th>\n",
              "      <th>time</th>\n",
              "      <th>user_id</th>\n",
              "      <th>action_type</th>\n",
              "      <th>client_platform</th>\n",
              "    </tr>\n",
              "  </thead>\n",
              "  <tbody>\n",
              "    <tr>\n",
              "      <th>0</th>\n",
              "      <td>2023-01-01</td>\n",
              "      <td>92</td>\n",
              "      <td>login</td>\n",
              "      <td>Android</td>\n",
              "    </tr>\n",
              "    <tr>\n",
              "      <th>1</th>\n",
              "      <td>2023-01-02</td>\n",
              "      <td>21</td>\n",
              "      <td>purchase</td>\n",
              "      <td>iOS</td>\n",
              "    </tr>\n",
              "    <tr>\n",
              "      <th>2</th>\n",
              "      <td>2023-01-03</td>\n",
              "      <td>35</td>\n",
              "      <td>purchase</td>\n",
              "      <td>Android</td>\n",
              "    </tr>\n",
              "    <tr>\n",
              "      <th>3</th>\n",
              "      <td>2023-01-04</td>\n",
              "      <td>59</td>\n",
              "      <td>login</td>\n",
              "      <td>Android</td>\n",
              "    </tr>\n",
              "    <tr>\n",
              "      <th>4</th>\n",
              "      <td>2023-01-05</td>\n",
              "      <td>10</td>\n",
              "      <td>click</td>\n",
              "      <td>Android</td>\n",
              "    </tr>\n",
              "  </tbody>\n",
              "</table>\n",
              "</div>"
            ],
            "text/plain": [
              "        time  user_id action_type client_platform\n",
              "0 2023-01-01       92       login         Android\n",
              "1 2023-01-02       21    purchase             iOS\n",
              "2 2023-01-03       35    purchase         Android\n",
              "3 2023-01-04       59       login         Android\n",
              "4 2023-01-05       10       click         Android"
            ]
          },
          "execution_count": 1,
          "metadata": {},
          "output_type": "execute_result"
        }
      ],
      "source": [
        "#синтетический df\n",
        "#запустить!\n",
        "\n",
        "import pandas as pd\n",
        "import numpy as np\n",
        "import matplotlib.pyplot as plt\n",
        "plt.style.use('dark_background')\n",
        "import seaborn as sns\n",
        "\n",
        "n = 500  # количество записей\n",
        "dates = pd.date_range(start='2023-01-01', periods=n, freq='D')\n",
        "user_ids = np.random.randint(1, 100, n)\n",
        "action_types = np.random.choice(['click', 'purchase', 'login'], n)\n",
        "client_platforms = np.random.choice(['iOS', 'Android', 'Web'], n)\n",
        "\n",
        "# Создание DataFrame\n",
        "data = {\n",
        "    'time': dates,\n",
        "    'user_id': user_ids,\n",
        "    'action_type': action_types,\n",
        "    'client_platform': client_platforms\n",
        "}\n",
        "df = pd.DataFrame(data)\n",
        "\n",
        "# Вывод первых 5 строк данных\n",
        "df.head()"
      ]
    },
    {
      "cell_type": "markdown",
      "id": "acce8625",
      "metadata": {},
      "source": [
        "1. Найдите среднее количество действий на одного пользователя."
      ]
    },
    {
      "cell_type": "markdown",
      "id": "8ae958a4",
      "metadata": {},
      "source": [
        "2. Подсчитайте, сколько пользователей использовали более одной платформы."
      ]
    },
    {
      "cell_type": "markdown",
      "id": "f6044522",
      "metadata": {},
      "source": [
        "3. Необходио визуализировать временной ряд, который отражает кол-во уникальных пользоватлей по каждому событию за каждый месяц, вне зависимости от платформы "
      ]
    }
  ],
  "metadata": {
    "colab": {
      "provenance": []
    },
    "kernelspec": {
      "display_name": "base",
      "language": "python",
      "name": "python3"
    },
    "language_info": {
      "codemirror_mode": {
        "name": "ipython",
        "version": 3
      },
      "file_extension": ".py",
      "mimetype": "text/x-python",
      "name": "python",
      "nbconvert_exporter": "python",
      "pygments_lexer": "ipython3",
      "version": "3.12.7"
    }
  },
  "nbformat": 4,
  "nbformat_minor": 5
}
